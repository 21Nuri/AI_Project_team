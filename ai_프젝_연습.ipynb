{
  "nbformat": 4,
  "nbformat_minor": 0,
  "metadata": {
    "colab": {
      "private_outputs": true,
      "provenance": [],
      "gpuType": "T4",
      "include_colab_link": true
    },
    "kernelspec": {
      "name": "python3",
      "display_name": "Python 3"
    },
    "language_info": {
      "name": "python"
    },
    "accelerator": "GPU"
  },
  "cells": [
    {
      "cell_type": "markdown",
      "metadata": {
        "id": "view-in-github",
        "colab_type": "text"
      },
      "source": [
        "<a href=\"https://colab.research.google.com/github/21Nuri/AI_Project_team/blob/main/ai_%ED%94%84%EC%A0%9D_%EC%97%B0%EC%8A%B5.ipynb\" target=\"_parent\"><img src=\"https://colab.research.google.com/assets/colab-badge.svg\" alt=\"Open In Colab\"/></a>"
      ]
    },
    {
      "cell_type": "code",
      "source": [
        "from google.colab import drive\n",
        "drive.mount('/content/drive')"
      ],
      "metadata": {
        "id": "XiLFCDzy6Hum"
      },
      "execution_count": null,
      "outputs": []
    },
    {
      "cell_type": "code",
      "source": [
        "# import\n",
        "\n",
        "import os\n",
        "from datetime import datetime, timedelta\n",
        "import re\n",
        "import shutil\n",
        "from PIL import Image, ImageEnhance\n",
        "import cv2\n",
        "import numpy as np\n",
        "import matplotlib.pyplot as plt\n",
        "import tensorflow as tf\n",
        "from tensorflow.keras.preprocessing import image\n",
        "from tensorflow.image import pad_to_bounding_box, central_crop, resize\n",
        "from tensorflow import keras\n",
        "from keras.models import Sequential\n",
        "from keras.layers import Dense, Dropout, Flatten\n",
        "from keras.layers.convolutional import Conv2D, MaxPooling2D\n",
        "from keras.utils import to_categorical"
      ],
      "metadata": {
        "id": "jlEFJiO5UDpV"
      },
      "execution_count": null,
      "outputs": []
    },
    {
      "cell_type": "code",
      "source": [
        "# 폴더 이름 바꾸기\n",
        "\n",
        "parent_path = \"/content/drive/MyDrive/Colab Notebooks/팀프로젝트/뿌리 데이터(저해상도)\"  # 상위 폴더 경로 수정하기\n",
        "folder_names = ['test', 'train']\n",
        "\n",
        "for folder_name in folder_names:\n",
        "    file_path = os.path.join(parent_path, folder_name)\n",
        "    file_names = os.listdir(file_path)\n",
        "\n",
        "    n = 1\n",
        "    for i in file_names:\n",
        "        src = os.path.join(file_path, i)\n",
        "\n",
        "        # 변경된 파일명 생성\n",
        "        new_file_name = f\"{n}\"\n",
        "\n",
        "        dst = os.path.join(file_path, new_file_name)\n",
        "        os.rename(src, dst)\n",
        "        n += 1"
      ],
      "metadata": {
        "id": "FIXJjbrc91wH"
      },
      "execution_count": null,
      "outputs": []
    },
    {
      "cell_type": "code",
      "execution_count": null,
      "metadata": {
        "id": "lpczRJNVjccx"
      },
      "outputs": [],
      "source": [
        "# 파일 이름 변경하기\n",
        "\n",
        "parent_directory = \"/content/drive/MyDrive/Colab Notebooks/팀프로젝트/뿌리 데이터(저해상도)\"  # 상위 폴더 경로 수정하기\n",
        "folder_names = ['test', 'train']\n",
        "\n",
        "for folder_name in folder_names:\n",
        "    folder_path = os.path.join(parent_directory, folder_name)\n",
        "\n",
        "    # test/train 폴더 내의 파일과 폴더 순회\n",
        "    for directory in os.listdir(folder_path):\n",
        "        # 폴더의 절대 경로\n",
        "        sub_folder_path = os.path.join(folder_path, directory)\n",
        "\n",
        "        # readme.txt 파일의 경로\n",
        "        readme_file_path = os.path.join(sub_folder_path, \"readme.txt\")\n",
        "\n",
        "        # readme.txt 파일이 있는지 확인\n",
        "        if os.path.isfile(readme_file_path):\n",
        "            # 폴더 삭제\n",
        "            shutil.rmtree(sub_folder_path)\n",
        "            print(f\"폴더 삭제: {sub_folder_path}\")\n",
        "\n",
        "    for directory in os.listdir(folder_path):\n",
        "        # 폴더의 절대 경로\n",
        "        sub_folder_path = os.path.join(folder_path, directory)\n",
        "\n",
        "        # 디렉토리 내의 파일 목록 가져오기\n",
        "        file_list = os.listdir(sub_folder_path)\n",
        "\n",
        "        # 파일 목록을 시간 순으로 정렬하기 전에 파일이름이 규정과 다른 경우 해당 파일 삭제\n",
        "        for file_name in file_list:\n",
        "            # 파일의 절대 경로\n",
        "            file_path = os.path.join(sub_folder_path, file_name)\n",
        "\n",
        "            # 파일명이 규정과 다른 경우 파일 삭제\n",
        "            file_name_split = file_name.split(\"_\")[1]\n",
        "            if not re.match(r'\\d{12}\\.jpg', file_name_split):\n",
        "                os.remove(file_path)\n",
        "                print(f\"삭제된 파일: {file_name}\")\n",
        "\n",
        "        # 디렉토리 내의 파일 목록 가져오기\n",
        "        file_list = os.listdir(sub_folder_path)\n",
        "\n",
        "        # 파일 목록을 시간 순으로 정렬\n",
        "        sorted_files = sorted(file_list, key=lambda x: int(x.split(\"_\")[1].split(\".\")[0]))\n",
        "\n",
        "        # 가장 이른 시간의 파일명 추출\n",
        "        first_file = sorted_files[0]\n",
        "\n",
        "        # 가장 이른 시간 추출\n",
        "        first_time = datetime.strptime(first_file.split(\"_\")[1].split(\".\")[0], \"%y%m%d%H%M%S\")\n",
        "\n",
        "        # 파일명 변경\n",
        "        for file in sorted_files:\n",
        "            # 파일의 현재 경로\n",
        "            file_path = os.path.join(sub_folder_path, file)\n",
        "\n",
        "            # 파일의 확장자\n",
        "            file_extension = os.path.splitext(file)[1]\n",
        "\n",
        "            # 파일의 시간 추출\n",
        "            file_time = datetime.strptime(file.split(\"_\")[1].split(\".\")[0], \"%y%m%d%H%M%S\")\n",
        "\n",
        "            # 시간 차이 계산 (분 단위)\n",
        "            time_difference = int((file_time - first_time).total_seconds() // 60)\n",
        "\n",
        "            # 파일이 .jpg가 아닌 경우 폴더 건너뛰기\n",
        "            if file_extension.lower() != \".jpg\":\n",
        "                continue\n",
        "\n",
        "            # 시간 간격에 따라 분류\n",
        "            if 0 <= time_difference < 720:\n",
        "                time_category = 0\n",
        "            elif 720 <= time_difference < 1440:\n",
        "                time_category = 1\n",
        "            elif 1440 <= time_difference < 2160:\n",
        "                time_category = 2\n",
        "            elif 2160 <= time_difference < 2880:\n",
        "                time_category = 3\n",
        "            elif 2880 <= time_difference < 3660:\n",
        "                time_category = 4\n",
        "            elif 3660 <= time_difference < 4320:\n",
        "                time_category = 5\n",
        "            else:\n",
        "                time_category = 6\n",
        "\n",
        "            # 변경된 파일명 생성\n",
        "            new_file_name = f\"{directory}_{time_difference}_{time_category}{file_extension}\"\n",
        "\n",
        "            # 새로운 파일명으로 파일 이동 또는 복사\n",
        "            new_file_path = os.path.join(sub_folder_path, new_file_name)\n",
        "            os.rename(file_path, new_file_path)\n",
        "\n",
        "            print(f\"파일명 변경: {file} -> {new_file_name}\")"
      ]
    },
    {
      "cell_type": "code",
      "source": [
        "# 폴더에 있는 사진들 하나로 모으기\n",
        "\n",
        "parent_directory = \"//content/drive/MyDrive/Colab Notebooks/팀프로젝트/뿌리 데이터(저해상도)\"  # 상위 폴더 경로 수정하기\n",
        "folder_names = ['test', 'train']\n",
        "\n",
        "for folder_name in folder_names:\n",
        "    parent_folder_path = os.path.join(parent_directory, folder_name)\n",
        "\n",
        "    # 상위 폴더 내의 모든 하위 폴더에 대해 반복\n",
        "    for folder_name in os.listdir(parent_folder_path):\n",
        "        folder_path = os.path.join(parent_folder_path, folder_name)\n",
        "        \n",
        "        # 폴더인 경우에만 처리\n",
        "        if os.path.isdir(folder_path):\n",
        "            # 하위 폴더 내의 파일들을 상위 폴더로 이동\n",
        "            for file_name in os.listdir(folder_path):\n",
        "                file_path = os.path.join(folder_path, file_name)\n",
        "                shutil.move(file_path, parent_folder_path)\n",
        "            \n",
        "            # 하위 폴더 삭제\n",
        "            shutil.rmtree(folder_path)"
      ],
      "metadata": {
        "id": "-nORtxBFJHIr"
      },
      "execution_count": null,
      "outputs": []
    },
    {
      "cell_type": "code",
      "source": [
        "# 전체 사진 크기 동일한지 확인하기\n",
        "\n",
        "# 이미지가 저장된 폴더 경로\n",
        "parent_directory = \"/content/drive/MyDrive/Colab Notebooks/팀프로젝트/뿌리 데이터(저해상도)\"  # 상위 폴더 경로 수정하기\n",
        "folder_names = ['test', 'train']\n",
        "\n",
        "for folder_name in folder_names:\n",
        "    folder_path = os.path.join(parent_directory, folder_name)\n",
        "\n",
        "    # 디렉토리 내의 파일 목록 가져오기\n",
        "    file_list = os.listdir(folder_path)\n",
        "\n",
        "    # 첫 번째 이미지의 크기\n",
        "    first_image_path = os.path.join(folder_path, file_list[0])\n",
        "    first_image = Image.open(first_image_path)\n",
        "    first_width, first_height = first_image.size\n",
        "\n",
        "    # 모든 이미지의 크기 확인\n",
        "    for file_name in file_list[1:]:\n",
        "        file_path = os.path.join(folder_path, file_name)\n",
        "        image = Image.open(file_path)\n",
        "        width, height = image.size\n",
        "        \n",
        "        if (width, height) != (first_width, first_height):\n",
        "            print(f\"이미지 크기 불일치: {file_name}\")\n",
        "            break\n",
        "    else:\n",
        "        print(f\"{folder_name} 모든 이미지 크기 일치\")"
      ],
      "metadata": {
        "id": "lHIH8jI0k2pE"
      },
      "execution_count": null,
      "outputs": []
    },
    {
      "cell_type": "code",
      "source": [
        "# 대비 조절\n",
        "\n",
        "# 폴더 경로\n",
        "parent_directory = \"/content/drive/MyDrive/Colab Notebooks/팀프로젝트/뿌리 데이터(저해상도)\"  # 상위 폴더 경로 수정하기\n",
        "folder_names = ['test', 'train']\n",
        "\n",
        "for folder_name in folder_names:\n",
        "    folder_path = os.path.join(parent_directory, folder_name)\n",
        "\n",
        "    # 디렉토리 내의 파일 목록 가져오기\n",
        "    file_list = os.listdir(folder_path)\n",
        "\n",
        "    def adjust_contrast(image, factor):\n",
        "        enhancer = ImageEnhance.Contrast(image)\n",
        "        adjusted_image = enhancer.enhance(factor)\n",
        "        return adjusted_image\n",
        "\n",
        "    # 이미지 대비 조절\n",
        "    for file in file_list:\n",
        "        # 파일의 현재 경로\n",
        "        file_path = os.path.join(folder_path, file)\n",
        "\n",
        "        # 이미지 열기\n",
        "        image = Image.open(file_path)\n",
        "\n",
        "        # 대비 조정\n",
        "        adjusted_image = adjust_contrast(image, 1.5)  # 1.5는 대비 조정 계수입니다.\n",
        "\n",
        "        # 조절된 이미지 저장\n",
        "        adjusted_image.save(file_path)"
      ],
      "metadata": {
        "id": "rj4FWubwrA2V"
      },
      "execution_count": null,
      "outputs": []
    },
    {
      "cell_type": "code",
      "source": [
        "#패딩 추가\n",
        "\n",
        "from tensorflow.keras.preprocessing import image\n",
        "\n",
        "# 폴더 경로\n",
        "parent_directory = \"/content/drive/MyDrive/Colab Notebooks/팀프로젝트/뿌리 데이터(저해상도)\"  # 상위 폴더 경로 수정하기\n",
        "folder_names = ['test', 'train']\n",
        "\n",
        "for folder_name in folder_names:\n",
        "    folder_path = os.path.join(parent_directory, folder_name)\n",
        "\n",
        "    # 디렉토리 내의 파일 목록 가져오기\n",
        "    file_list = os.listdir(folder_path)\n",
        "\n",
        "    for file in file_list:\n",
        "    # 이미지 파일 경로 생성\n",
        "        file_path = os.path.join(folder_path, file)\n",
        "\n",
        "        #이미지 불러오기\n",
        "        bgd = image.load_img(file_path)\n",
        "        bgd_vector = np.asarray(image.img_to_array(bgd))\n",
        "        bgd_vector = bgd_vector/255\n",
        "        \n",
        "        # #이미지 형태 확인 \n",
        "        # bgd_vector.shape\n",
        "\n",
        "        #이미지의 변경할 크기 설정 \n",
        "        target_height = 320\n",
        "        target_width = 320\n",
        "        \n",
        "        #현재 이미지의 크기 지정 \n",
        "        source_height = bgd_vector.shape[0]\n",
        "        source_width = bgd_vector.shape[1]\n",
        "        \n",
        "        #padding 실시 : pad_to_bounding_box 사용 \n",
        "        bgd_vector_pad = pad_to_bounding_box(bgd_vector, \n",
        "                                            int((target_height-source_height)/2), \n",
        "                                            int((target_width-source_width)/2), \n",
        "                                            target_height, \n",
        "                                            target_width)\n",
        "\n",
        "        image.save_img(file_path, bgd_vector_pad)"
      ],
      "metadata": {
        "id": "GaAsqfkXrBb2"
      },
      "execution_count": null,
      "outputs": []
    },
    {
      "cell_type": "code",
      "source": [
        "# 사진 crop하기\n",
        "\n",
        "from tensorflow.keras.preprocessing import image\n",
        "\n",
        "# 폴더 경로\n",
        "parent_directory = \"/content/drive/MyDrive/Colab Notebooks/팀프로젝트/뿌리 데이터(저해상도)\"  # 상위 폴더 경로 수정하기\n",
        "folder_names = ['test', 'train']\n",
        "\n",
        "for folder_name in folder_names:\n",
        "    folder_path = os.path.join(parent_directory, folder_name)\n",
        "\n",
        "    # 디렉토리 내의 파일 목록 가져오기\n",
        "    file_list = os.listdir(folder_path)\n",
        "\n",
        "    for file in file_list:\n",
        "        # 이미지 파일 경로 생성\n",
        "        file_path = os.path.join(folder_path, file)\n",
        "\n",
        "        image = Image.open(file_path)\n",
        "\n",
        "        img_cropped = image.crop((73,73,247,247))\n",
        "\n",
        "        # 조절된 이미지 저장\n",
        "        img_cropped.save(file_path)\n",
        "\n",
        "        # plt.imshow(img_cropped)\n",
        "        # plt.show()"
      ],
      "metadata": {
        "id": "yTVLhw9DMZPd"
      },
      "execution_count": null,
      "outputs": []
    },
    {
      "cell_type": "code",
      "source": [
        "# 사진 확인하기\n",
        "\n",
        "image = Image.open(\"/content/drive/MyDrive/Colab Notebooks/팀프로젝트/뿌리 데이터(저해상도)/test/2_0_0.jpg\")\n",
        "\n",
        "plt.imshow(image)\n",
        "plt.show()"
      ],
      "metadata": {
        "id": "aLHGZK5R-Yac"
      },
      "execution_count": null,
      "outputs": []
    },
    {
      "cell_type": "code",
      "source": [
        "# x_train / test 배열로 변환후 정규화\n",
        "\n",
        "# 이미지가 있는 폴더 경로\n",
        "parent_directory = \"/content/drive/MyDrive/Colab Notebooks/팀프로젝트/뿌리 데이터(저해상도)\"  # 상위 폴더 경로 수정하기\n",
        "folder_names = ['test', 'train']\n",
        "\n",
        "for folder_name in folder_names:\n",
        "    folder_path = os.path.join(parent_directory, folder_name)\n",
        "\n",
        "    # 이미지 확장자 (예: .jpg, .png 등)\n",
        "    image_extension = \".jpg\"\n",
        "\n",
        "    # 이미지 크기 설정\n",
        "    image_size = (140, 140)\n",
        "\n",
        "    # 이미지 파일 목록 가져오기\n",
        "    file_list = os.listdir(folder_path)\n",
        "\n",
        "    # 이미지 데이터와 레이블 초기화\n",
        "    images = []\n",
        "    labels = []\n",
        "\n",
        "    # 이미지 파일 순회\n",
        "    for file_name in file_list:\n",
        "        # 이미지 파일 경로\n",
        "        image_path = os.path.join(folder_path, file_name)\n",
        "\n",
        "        # 이미지 파일 로드\n",
        "        image = cv2.imread(image_path)\n",
        "\n",
        "        # 이미지 크기 변경\n",
        "        image = cv2.resize(image, image_size)\n",
        "\n",
        "        # 이미지 데이터 추가\n",
        "        images.append(image)\n",
        "\n",
        "        # 이미지 파일명에서 레이블 추출\n",
        "        label = int(file_name.split(\"_\")[2].split(\".\")[0])  # 예시: 파일명이 \"1_20_0.jpg\"라면 0이 레이블로 설정됨\n",
        "\n",
        "        # 레이블 추가\n",
        "        labels.append(label)\n",
        "\n",
        "    if folder_name == 'train':\n",
        "        # 이미지 데이터와 레이블을 NumPy 배열로 변환\n",
        "        x_train = np.array(images)\n",
        "        y_train = np.array(labels)\n",
        "\n",
        "        # 이미지 데이터 정규화\n",
        "        x_train = x_train.astype('float32') / 255.\n",
        "\n",
        "        # 이미지 시각화\n",
        "        n = 2\n",
        "        plt.imshow(x_train[n], cmap='Greys', interpolation='nearest')\n",
        "        plt.show()\n",
        "    \n",
        "    elif folder_name == 'test':\n",
        "        # 이미지 데이터와 레이블을 NumPy 배열로 변환\n",
        "        x_test = np.array(images)\n",
        "        y_test = np.array(labels)"
      ],
      "metadata": {
        "id": "wqEg_2j7IMt6"
      },
      "execution_count": null,
      "outputs": []
    },
    {
      "cell_type": "code",
      "source": [
        "x_train = x_train.reshape(x_train.shape[0], 140, 140, 3)\n",
        "x_test = x_test.reshape(x_test.shape[0], 140, 140, 3)\n",
        " \n",
        "input_shape = (140, 140, 3)\n",
        "input_shape"
      ],
      "metadata": {
        "id": "4bqoqgOhK8By"
      },
      "execution_count": null,
      "outputs": []
    },
    {
      "cell_type": "code",
      "source": [
        "x_train.shape[0]\n",
        "y_train.shape[0]"
      ],
      "metadata": {
        "id": "56Dmg8nn_XXx"
      },
      "execution_count": null,
      "outputs": []
    },
    {
      "cell_type": "code",
      "source": [
        "y_train[0:10]\n",
        "num_classes = 7\n",
        "y_train = keras.utils.to_categorical(y_train, num_classes)\n",
        "y_test = keras.utils.to_categorical(y_test, num_classes)\n",
        "y_train[0:10]"
      ],
      "metadata": {
        "id": "nFSXEGqfNFkM"
      },
      "execution_count": null,
      "outputs": []
    },
    {
      "cell_type": "code",
      "source": [
        "np.random.seed(7)"
      ],
      "metadata": {
        "id": "3ZWVoB_CNzlW"
      },
      "execution_count": null,
      "outputs": []
    },
    {
      "cell_type": "code",
      "source": [
        "# 모델 1 (인식률이 현저하게 낮음)\n",
        "\n",
        "model = Sequential()\n",
        "model.add(Conv2D(32, kernel_size=(5, 5), strides=(1, 1), padding='same', activation='relu', input_shape=input_shape))\n",
        "model.add(MaxPooling2D(pool_size=(2, 2), strides=(2, 2)))\n",
        "model.add(Conv2D(64, (2, 2), activation='relu', padding='same'))\n",
        "model.add(MaxPooling2D(pool_size=(2, 2)))\n",
        "model.add(Dropout(0.25))\n",
        "model.add(Flatten())\n",
        "model.add(Dense(1000, activation='relu'))\n",
        "model.add(Dropout(0.5))\n",
        "\n",
        "# 모델 출력 레이어 수정\n",
        "num_classes = 7  # 클래스 수에 맞게 설정\n",
        "model.add(Dense(num_classes, activation='softmax'))\n",
        "\n",
        "model.compile(loss='binary_crossentropy', optimizer='adam', metrics=['accuracy'])"
      ],
      "metadata": {
        "id": "MjsCviqxOeDM"
      },
      "execution_count": null,
      "outputs": []
    },
    {
      "cell_type": "code",
      "source": [
        "# 모델 2 (인식률은 모델 1에 비해 더욱 높지만, Ram을 많이 사용함)\n",
        "\n",
        "model = Sequential()\n",
        "model.add(Conv2D(32, kernel_size=(3, 3), strides=(1, 1), padding='same', activation='relu', input_shape=input_shape))\n",
        "model.add(Conv2D(32, kernel_size=(3, 3), strides=(1, 1), padding='same', activation='relu'))\n",
        "model.add(MaxPooling2D(pool_size=(2, 2)))\n",
        "\n",
        "model.add(Conv2D(64, kernel_size=(3, 3), strides=(1, 1), padding='same', activation='relu'))\n",
        "model.add(Conv2D(64, kernel_size=(3, 3), strides=(1, 1), padding='same', activation='relu'))\n",
        "model.add(MaxPooling2D(pool_size=(2, 2)))\n",
        "\n",
        "model.add(Conv2D(128, kernel_size=(3, 3), strides=(1, 1), padding='same', activation='relu'))\n",
        "model.add(Conv2D(128, kernel_size=(3, 3), strides=(1, 1), padding='same', activation='relu'))\n",
        "model.add(MaxPooling2D(pool_size=(2, 2)))\n",
        "\n",
        "model.add(Flatten())\n",
        "model.add(Dense(512, activation='relu'))\n",
        "model.add(Dropout(0.5))\n",
        "model.add(Dense(num_classes, activation='softmax'))\n",
        "\n",
        "model.compile(loss='categorical_crossentropy', optimizer='adam', metrics=['accuracy'])\n"
      ],
      "metadata": {
        "id": "7DAdkRHAA-9C"
      },
      "execution_count": null,
      "outputs": []
    },
    {
      "cell_type": "code",
      "source": [
        "# 모델 3 (Ram 부족으로 불가능)\n",
        "\n",
        "from tensorflow.keras.layers import BatchNormalization\n",
        "\n",
        "model = Sequential()\n",
        "\n",
        "model.add(Conv2D(32, kernel_size=(3, 3), strides=(1, 1), padding='same', activation='relu', input_shape=input_shape))\n",
        "model.add(BatchNormalization())\n",
        "model.add(Conv2D(32, kernel_size=(3, 3), strides=(1, 1), padding='same', activation='relu'))\n",
        "model.add(BatchNormalization())\n",
        "model.add(MaxPooling2D(pool_size=(2, 2)))\n",
        "\n",
        "model.add(Conv2D(64, kernel_size=(3, 3), strides=(1, 1), padding='same', activation='relu'))\n",
        "model.add(BatchNormalization())\n",
        "model.add(Conv2D(64, kernel_size=(3, 3), strides=(1, 1), padding='same', activation='relu'))\n",
        "model.add(BatchNormalization())\n",
        "model.add(MaxPooling2D(pool_size=(2, 2)))\n",
        "\n",
        "model.add(Conv2D(128, kernel_size=(3, 3), strides=(1, 1), padding='same', activation='relu'))\n",
        "model.add(BatchNormalization())\n",
        "model.add(Conv2D(128, kernel_size=(3, 3), strides=(1, 1), padding='same', activation='relu'))\n",
        "model.add(BatchNormalization())\n",
        "model.add(MaxPooling2D(pool_size=(2, 2)))\n",
        "\n",
        "model.add(Flatten())\n",
        "model.add(Dense(512, activation='relu'))\n",
        "model.add(BatchNormalization())\n",
        "model.add(Dropout(0.5))\n",
        "model.add(Dense(num_classes, activation='softmax'))\n",
        "\n",
        "model.compile(loss='categorical_crossentropy', optimizer='adam', metrics=['accuracy'])"
      ],
      "metadata": {
        "id": "qvzdB7R2lrCY"
      },
      "execution_count": null,
      "outputs": []
    },
    {
      "cell_type": "code",
      "source": [
        "model.summary()"
      ],
      "metadata": {
        "id": "sNMScn-nOjTI"
      },
      "execution_count": null,
      "outputs": []
    },
    {
      "cell_type": "code",
      "source": [
        "# 모델에 데이터셋 학습시키기\n",
        "\n",
        "batch_size=128\n",
        "epochs=15\n",
        "\n",
        "model.compile(loss='categorical_crossentropy', optimizer='adam', metrics=['accuracy'])\n",
        "hist = model.fit(x_train, y_train, batch_size=batch_size, epochs=epochs, verbose=1, validation_data=(x_test, y_test))"
      ],
      "metadata": {
        "id": "68CRBeLyOk6B"
      },
      "execution_count": null,
      "outputs": []
    },
    {
      "cell_type": "code",
      "source": [
        "# Test 인식률\n",
        "\n",
        "score = model.evaluate(x_test, y_test, verbose=0)\n",
        "print('Test loss:', score[0])\n",
        "print('Test accuracy:', score[1])"
      ],
      "metadata": {
        "id": "bWDpyn51UtjB"
      },
      "execution_count": null,
      "outputs": []
    },
    {
      "cell_type": "code",
      "source": [
        "# 그래프 확인하기\n",
        "\n",
        "plt.figure(figsize=(12,8))\n",
        "# plt.plot(hist.history['loss'])\n",
        "# plt.plot(hist.history['val_loss'])\n",
        "plt.plot(hist.history['accuracy'])\n",
        "plt.plot(hist.history['val_accuracy'])\n",
        "# plt.legend(['loss', 'val_loss', 'acc', 'val_acc'])\n",
        "plt.legend(['acc', 'val_acc'])\n",
        "plt.show()"
      ],
      "metadata": {
        "id": "N2BPfuwcVAp9"
      },
      "execution_count": null,
      "outputs": []
    }
  ]
}